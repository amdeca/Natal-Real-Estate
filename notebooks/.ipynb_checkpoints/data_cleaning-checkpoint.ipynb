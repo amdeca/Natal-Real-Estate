{
 "cells": [
  {
   "cell_type": "code",
   "execution_count": 1,
   "metadata": {},
   "outputs": [],
   "source": [
    "import pandas as pd\n",
    "\n",
    "dfh = pd.read_csv('data/scraped_houses.csv', encoding = 'ISO-8859-1')\n",
    "dfa = pd.read_csv('data/scraped_apartments.csv', encoding = 'ISO-8859-1')"
   ]
  },
  {
   "cell_type": "markdown",
   "metadata": {},
   "source": [
    "1 - Format Columns"
   ]
  },
  {
   "cell_type": "code",
   "execution_count": 2,
   "metadata": {},
   "outputs": [],
   "source": [
    "#Remove 'R$' string from sale, condofee columns\n",
    "dfa['adv_sale'] = dfa['adv_sale'].str[3:]\n",
    "dfa['adv_condofee'] = dfa['adv_condofee'].str.replace('.','')\n",
    "dfa['adv_condofee'] = dfa['adv_condofee'].str[3:]\n",
    "\n",
    "dfh['adv_sale'] = dfh['adv_sale'].str[3:]\n",
    "dfh['adv_condofee'] = \"NotFound\""
   ]
  },
  {
   "cell_type": "code",
   "execution_count": 3,
   "metadata": {},
   "outputs": [],
   "source": [
    "#Convert sale, condofee to float on both datasets\n",
    "dfa[\"adv_sale\"] = pd.to_numeric(dfa[\"adv_sale\"], errors='coerce', downcast='integer')\n",
    "dfa[\"adv_condofee\"] = pd.to_numeric(dfa[\"adv_condofee\"], errors='coerce', downcast='integer')\n",
    "dfa[\"adv_bed\"] = pd.to_numeric(dfa[\"adv_bed\"], errors='coerce', downcast='integer')\n",
    "dfa[\"adv_bath\"] = pd.to_numeric(dfa[\"adv_bath\"], errors='coerce', downcast='integer')\n",
    "dfa[\"adv_park\"] = pd.to_numeric(dfa[\"adv_park\"], errors='coerce', downcast='integer')\n",
    "dfa[\"adv_size\"] = pd.to_numeric(dfa[\"adv_size\"], errors='coerce', downcast='integer')\n",
    "\n",
    "dfh[\"adv_sale\"] = pd.to_numeric(dfh[\"adv_sale\"], errors='coerce', downcast='integer')\n",
    "dfh[\"adv_condofee\"] = pd.to_numeric(dfh[\"adv_condofee\"], errors='coerce', downcast='integer')\n",
    "dfh[\"adv_bed\"] = pd.to_numeric(dfh[\"adv_bed\"], errors='coerce', downcast='integer')\n",
    "dfh[\"adv_bath\"] = pd.to_numeric(dfh[\"adv_bath\"], errors='coerce', downcast='integer')\n",
    "dfh[\"adv_park\"] = pd.to_numeric(dfh[\"adv_park\"], errors='coerce', downcast='integer')\n",
    "dfh[\"adv_size\"] = pd.to_numeric(dfh[\"adv_size\"], errors='coerce', downcast='integer')"
   ]
  },
  {
   "cell_type": "markdown",
   "metadata": {},
   "source": [
    "2 - Creating features from 'features' column"
   ]
  },
  {
   "cell_type": "code",
   "execution_count": 4,
   "metadata": {},
   "outputs": [],
   "source": [
    "#Creating apartment pool, elevator, bbq, balcony feature columns\n",
    "dfa['pool'] = dfa['features'].str.contains('piscina', case = False)\n",
    "dfa['elevator'] = dfa['features'].str.contains('elevador', case = False)\n",
    "dfa['bbq'] = dfa['features'].str.contains('churrasqueira', case = False)\n",
    "dfa['balcony'] = dfa['features'].str.contains('varanda', case = False)"
   ]
  },
  {
   "cell_type": "code",
   "execution_count": 5,
   "metadata": {},
   "outputs": [
    {
     "name": "stderr",
     "output_type": "stream",
     "text": [
      "C:\\ProgramData\\Anaconda3\\lib\\site-packages\\ipykernel_launcher.py:2: UserWarning: This pattern has match groups. To actually get the groups, use str.extract.\n",
      "  \n"
     ]
    }
   ],
   "source": [
    "#Creating leisure column, this time using regex to match different string values\n",
    "dfa['leisure'] = dfa['features'].str.contains('(playground|quadra|festas|jogos)', case=False, regex=True)"
   ]
  },
  {
   "cell_type": "code",
   "execution_count": 6,
   "metadata": {},
   "outputs": [
    {
     "name": "stderr",
     "output_type": "stream",
     "text": [
      "C:\\ProgramData\\Anaconda3\\lib\\site-packages\\ipykernel_launcher.py:4: UserWarning: This pattern has match groups. To actually get the groups, use str.extract.\n",
      "  after removing the cwd from sys.path.\n"
     ]
    }
   ],
   "source": [
    "#Creating pool, balcony, leisure, secondfloor columns\n",
    "dfh['pool'] = dfh['features'].str.contains('piscina', case=False)\n",
    "dfh['balcony'] = dfh['features'].str.contains('varanda', case=False)\n",
    "dfh['leisure'] = dfh['features'].str.contains('(quintal|jardim|churrasqueira|jogos)', case=False, regex=True)\n",
    "dfh['secondfloor'] = dfh['features'].str.contains('andar', case=False)"
   ]
  },
  {
   "cell_type": "code",
   "execution_count": 7,
   "metadata": {},
   "outputs": [],
   "source": [
    "dfa.drop(['features','adv_address'], axis=1, inplace= True)\n",
    "dfh.drop(['features','adv_address','adv_condofee'], axis = 1, inplace = True)"
   ]
  },
  {
   "cell_type": "markdown",
   "metadata": {},
   "source": [
    "3 - Missing Values"
   ]
  },
  {
   "cell_type": "code",
   "execution_count": 8,
   "metadata": {},
   "outputs": [
    {
     "data": {
      "text/plain": [
       "adv_sale          14\n",
       "adv_condofee    1951\n",
       "adv_bed           29\n",
       "adv_bath          95\n",
       "adv_park         233\n",
       "adv_size         131\n",
       "district          35\n",
       "re_type            0\n",
       "pool              15\n",
       "elevator          15\n",
       "bbq               15\n",
       "balcony           15\n",
       "leisure           15\n",
       "dtype: int64"
      ]
     },
     "execution_count": 8,
     "metadata": {},
     "output_type": "execute_result"
    }
   ],
   "source": [
    "dfa.isnull().sum()"
   ]
  },
  {
   "cell_type": "code",
   "execution_count": 9,
   "metadata": {},
   "outputs": [
    {
     "data": {
      "text/plain": [
       "(6498, 12)"
      ]
     },
     "execution_count": 9,
     "metadata": {},
     "output_type": "execute_result"
    }
   ],
   "source": [
    "#Drop adv_condofee column\n",
    "dfa.drop(['adv_condofee'], axis = 1, inplace = True)\n",
    "dfa.shape"
   ]
  },
  {
   "cell_type": "code",
   "execution_count": 10,
   "metadata": {},
   "outputs": [
    {
     "name": "stdout",
     "output_type": "stream",
     "text": [
      "adv_sale    0\n",
      "adv_bed     0\n",
      "adv_bath    0\n",
      "adv_park    0\n",
      "adv_size    0\n",
      "district    0\n",
      "re_type     0\n",
      "pool        0\n",
      "elevator    0\n",
      "bbq         0\n",
      "balcony     0\n",
      "leisure     0\n",
      "dtype: int64\n",
      "(6346, 12)\n"
     ]
    }
   ],
   "source": [
    "#Fill missing adv_park, bed, bath with 1\n",
    "dfa['adv_park'].fillna(1, inplace=True)\n",
    "dfa['adv_bed'].fillna(1, inplace=True)\n",
    "dfa['adv_bath'].fillna(1, inplace=True)\n",
    "dfa['adv_park'].fillna(1, inplace=True)\n",
    "\n",
    "#Assign 'False' to missing feature columns\n",
    "dfa['pool'].fillna(\"False\", inplace=True)\n",
    "dfa['elevator'].fillna(\"False\", inplace=True)\n",
    "dfa['bbq'].fillna(\"False\", inplace=True)\n",
    "dfa['balcony'].fillna(\"False\", inplace=True)\n",
    "dfa['leisure'].fillna(\"False\", inplace=True)\n",
    "\n",
    "#Drop the remaining rows with missing values\n",
    "dfa.dropna(inplace = True)\n",
    "print(dfa.isnull().sum())\n",
    "print(dfa.shape)"
   ]
  },
  {
   "cell_type": "code",
   "execution_count": 11,
   "metadata": {},
   "outputs": [
    {
     "name": "stdout",
     "output_type": "stream",
     "text": [
      "adv_sale       0\n",
      "adv_bed        0\n",
      "adv_bath       0\n",
      "adv_park       0\n",
      "adv_size       0\n",
      "district       0\n",
      "re_type        0\n",
      "pool           0\n",
      "balcony        0\n",
      "leisure        0\n",
      "secondfloor    0\n",
      "dtype: int64\n"
     ]
    }
   ],
   "source": [
    "dfh['adv_bed'].fillna(1, inplace=True)\n",
    "dfh['adv_bath'].fillna(1, inplace=True)\n",
    "dfh['adv_park'].fillna(1, inplace=True)\n",
    "dfh.dropna(inplace = True)\n",
    "print(dfh.isnull().sum())"
   ]
  },
  {
   "cell_type": "markdown",
   "metadata": {},
   "source": [
    "4 - Re-arrange columns and save"
   ]
  },
  {
   "cell_type": "code",
   "execution_count": 12,
   "metadata": {},
   "outputs": [],
   "source": [
    "dfa = dfa[ ['re_type','adv_bed','adv_bath','adv_park','pool','elevator','bbq','balcony','leisure','adv_size','district','adv_sale']]\n",
    "dfh = dfh[ ['re_type','adv_bed','adv_bath','adv_park','pool','balcony','leisure','secondfloor','adv_size','district','adv_sale']]\n",
    "\n",
    "dfh.to_csv('data/natal_houses.csv', index = False)\n",
    "dfa.to_csv('data/natal_apartments.csv', index = False)"
   ]
  }
 ],
 "metadata": {
  "kernelspec": {
   "display_name": "Python 3",
   "language": "python",
   "name": "python3"
  },
  "language_info": {
   "codemirror_mode": {
    "name": "ipython",
    "version": 3
   },
   "file_extension": ".py",
   "mimetype": "text/x-python",
   "name": "python",
   "nbconvert_exporter": "python",
   "pygments_lexer": "ipython3",
   "version": "3.6.7"
  }
 },
 "nbformat": 4,
 "nbformat_minor": 2
}
