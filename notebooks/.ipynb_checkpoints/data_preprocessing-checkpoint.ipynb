{
 "cells": [
  {
   "cell_type": "code",
   "execution_count": 2,
   "metadata": {},
   "outputs": [],
   "source": [
    "import pandas as pd\n",
    "from sklearn import preprocessing\n",
    "le = preprocessing.LabelEncoder()\n",
    "\n",
    "dfa = pd.read_csv('data/natal_apartments.csv')\n",
    "dfh = pd.read_csv('data/natal_houses.csv')"
   ]
  },
  {
   "cell_type": "markdown",
   "metadata": {},
   "source": [
    "<h3>Labeling data"
   ]
  },
  {
   "cell_type": "code",
   "execution_count": 3,
   "metadata": {},
   "outputs": [],
   "source": [
    "#True = 1, False = 0\n",
    "dfa.replace({False: 0, True: 1}, inplace=True)\n",
    "dfh.replace({False: 0, True: 1}, inplace=True)"
   ]
  },
  {
   "cell_type": "markdown",
   "metadata": {},
   "source": [
    "<h5>Geospatial features"
   ]
  },
  {
   "cell_type": "code",
   "execution_count": 4,
   "metadata": {},
   "outputs": [],
   "source": [
    "geo = pd.read_csv('data/geographies_bairros_natal.csv')\n",
    "geo.drop('Unnamed: 0', axis=1, inplace= True)"
   ]
  },
  {
   "cell_type": "code",
   "execution_count": 5,
   "metadata": {},
   "outputs": [
    {
     "data": {
      "text/plain": [
       "amenity_pharmacy            35\n",
       "leisure_*                   35\n",
       "amenity_restaurant          35\n",
       "shop_supermarket            35\n",
       "amenity_clinic              35\n",
       "amenity_school              35\n",
       "tourism_*                   35\n",
       "amenity_police              35\n",
       "amenity_hospital            35\n",
       "amenity_place_of_worship    35\n",
       "shop_mall                   35\n",
       "amenity_fast_food           35\n",
       "Name: tag, dtype: int64"
      ]
     },
     "execution_count": 5,
     "metadata": {},
     "output_type": "execute_result"
    }
   ],
   "source": [
    "geo['tag'].value_counts()"
   ]
  },
  {
   "cell_type": "code",
   "execution_count": 6,
   "metadata": {
    "scrolled": true
   },
   "outputs": [
    {
     "data": {
      "text/html": [
       "<div>\n",
       "<style>\n",
       "    .dataframe thead tr:only-child th {\n",
       "        text-align: right;\n",
       "    }\n",
       "\n",
       "    .dataframe thead th {\n",
       "        text-align: left;\n",
       "    }\n",
       "\n",
       "    .dataframe tbody tr th {\n",
       "        vertical-align: top;\n",
       "    }\n",
       "</style>\n",
       "<table border=\"1\" class=\"dataframe\">\n",
       "  <thead>\n",
       "    <tr style=\"text-align: right;\">\n",
       "      <th></th>\n",
       "      <th>tag</th>\n",
       "      <th>district</th>\n",
       "      <th>count</th>\n",
       "      <th>REG_ADM</th>\n",
       "      <th>area</th>\n",
       "      <th>density</th>\n",
       "    </tr>\n",
       "  </thead>\n",
       "  <tbody>\n",
       "    <tr>\n",
       "      <th>0</th>\n",
       "      <td>amenity_clinic</td>\n",
       "      <td>Alecrim</td>\n",
       "      <td>0</td>\n",
       "      <td>Leste</td>\n",
       "      <td>2.812663</td>\n",
       "      <td>0.000000</td>\n",
       "    </tr>\n",
       "    <tr>\n",
       "      <th>1</th>\n",
       "      <td>amenity_clinic</td>\n",
       "      <td>Areia Preta</td>\n",
       "      <td>0</td>\n",
       "      <td>Leste</td>\n",
       "      <td>0.262493</td>\n",
       "      <td>0.000000</td>\n",
       "    </tr>\n",
       "    <tr>\n",
       "      <th>2</th>\n",
       "      <td>amenity_clinic</td>\n",
       "      <td>Barro Vermelho</td>\n",
       "      <td>0</td>\n",
       "      <td>Leste</td>\n",
       "      <td>0.773460</td>\n",
       "      <td>0.000000</td>\n",
       "    </tr>\n",
       "    <tr>\n",
       "      <th>3</th>\n",
       "      <td>amenity_clinic</td>\n",
       "      <td>Bom Pastor</td>\n",
       "      <td>0</td>\n",
       "      <td>Oeste</td>\n",
       "      <td>2.823754</td>\n",
       "      <td>0.000000</td>\n",
       "    </tr>\n",
       "    <tr>\n",
       "      <th>4</th>\n",
       "      <td>amenity_clinic</td>\n",
       "      <td>Candelária</td>\n",
       "      <td>0</td>\n",
       "      <td>Sul</td>\n",
       "      <td>6.213090</td>\n",
       "      <td>0.000000</td>\n",
       "    </tr>\n",
       "    <tr>\n",
       "      <th>5</th>\n",
       "      <td>amenity_clinic</td>\n",
       "      <td>Capim Macio</td>\n",
       "      <td>3</td>\n",
       "      <td>Sul</td>\n",
       "      <td>3.536323</td>\n",
       "      <td>0.848339</td>\n",
       "    </tr>\n",
       "    <tr>\n",
       "      <th>6</th>\n",
       "      <td>amenity_clinic</td>\n",
       "      <td>Cidade Alta</td>\n",
       "      <td>1</td>\n",
       "      <td>Leste</td>\n",
       "      <td>0.949833</td>\n",
       "      <td>1.052817</td>\n",
       "    </tr>\n",
       "    <tr>\n",
       "      <th>7</th>\n",
       "      <td>amenity_clinic</td>\n",
       "      <td>Cidade Nova</td>\n",
       "      <td>0</td>\n",
       "      <td>Oeste</td>\n",
       "      <td>2.138740</td>\n",
       "      <td>0.000000</td>\n",
       "    </tr>\n",
       "    <tr>\n",
       "      <th>8</th>\n",
       "      <td>amenity_clinic</td>\n",
       "      <td>Cidade da Esperança</td>\n",
       "      <td>0</td>\n",
       "      <td>Oeste</td>\n",
       "      <td>1.492125</td>\n",
       "      <td>0.000000</td>\n",
       "    </tr>\n",
       "    <tr>\n",
       "      <th>9</th>\n",
       "      <td>amenity_clinic</td>\n",
       "      <td>Dix-Sept Rosado</td>\n",
       "      <td>0</td>\n",
       "      <td>Oeste</td>\n",
       "      <td>0.894543</td>\n",
       "      <td>0.000000</td>\n",
       "    </tr>\n",
       "  </tbody>\n",
       "</table>\n",
       "</div>"
      ],
      "text/plain": [
       "              tag             district  count REG_ADM      area   density\n",
       "0  amenity_clinic              Alecrim      0   Leste  2.812663  0.000000\n",
       "1  amenity_clinic          Areia Preta      0   Leste  0.262493  0.000000\n",
       "2  amenity_clinic       Barro Vermelho      0   Leste  0.773460  0.000000\n",
       "3  amenity_clinic           Bom Pastor      0   Oeste  2.823754  0.000000\n",
       "4  amenity_clinic           Candelária      0     Sul  6.213090  0.000000\n",
       "5  amenity_clinic          Capim Macio      3     Sul  3.536323  0.848339\n",
       "6  amenity_clinic          Cidade Alta      1   Leste  0.949833  1.052817\n",
       "7  amenity_clinic          Cidade Nova      0   Oeste  2.138740  0.000000\n",
       "8  amenity_clinic  Cidade da Esperança      0   Oeste  1.492125  0.000000\n",
       "9  amenity_clinic      Dix-Sept Rosado      0   Oeste  0.894543  0.000000"
      ]
     },
     "execution_count": 6,
     "metadata": {},
     "output_type": "execute_result"
    }
   ],
   "source": [
    "geo.rename(index=str, columns={\"bairro\": \"district\"}, inplace=True)\n",
    "geo.head(10)"
   ]
  },
  {
   "cell_type": "code",
   "execution_count": 7,
   "metadata": {},
   "outputs": [],
   "source": [
    "#am_worship = geo[geo['tag'] == 'amenity_place_of_worship']\n",
    "#am_worship.drop(['tag'], axis = 1, inplace = True)\n",
    "#am_worship.head(10)"
   ]
  },
  {
   "cell_type": "code",
   "execution_count": 8,
   "metadata": {},
   "outputs": [
    {
     "data": {
      "text/plain": [
       "{'Alecrim': 0,\n",
       " 'Areia Preta': 1,\n",
       " 'Barro Vermelho': 2,\n",
       " 'Bom Pastor': 3,\n",
       " 'Candelária': 4,\n",
       " 'Capim Macio': 5,\n",
       " 'Cidade Alta': 6,\n",
       " 'Cidade Nova': 7,\n",
       " 'Cidade da Esperança': 8,\n",
       " 'Dix-Sept Rosado': 9,\n",
       " 'Felipe Camarão': 10,\n",
       " 'Guarapes': 11,\n",
       " 'Igapó': 12,\n",
       " 'Lagoa Azul': 13,\n",
       " 'Lagoa Nova': 14,\n",
       " 'Lagoa Seca': 15,\n",
       " 'Mãe Luiza': 16,\n",
       " 'N. S. Apresentação': 17,\n",
       " 'N. Sra. do Nazaré': 18,\n",
       " 'Neópolis': 19,\n",
       " 'Nova Descoberta': 20,\n",
       " 'Pajuçara': 21,\n",
       " 'Parque das Dunas': 22,\n",
       " 'Petropólis': 23,\n",
       " 'Pitimbu': 24,\n",
       " 'Planalto': 25,\n",
       " 'Ponta Negra': 26,\n",
       " 'Potengi': 27,\n",
       " 'Praia do Meio': 28,\n",
       " 'Quintas': 29,\n",
       " 'Redinha': 30,\n",
       " 'Ribeira': 31,\n",
       " 'Rocas': 32,\n",
       " 'Santos Reis': 33,\n",
       " 'Tirol': 34}"
      ]
     },
     "execution_count": 8,
     "metadata": {},
     "output_type": "execute_result"
    }
   ],
   "source": [
    "#Map the district encoding in a dictionary for later use\n",
    "#am_worship['district'] = le.fit_transform(am_worship['district'])\n",
    "le.fit_transform(geo['district'])\n",
    "district_name_mapping = dict(zip(le.classes_, le.transform(le.classes_)))\n",
    "district_name_mapping"
   ]
  },
  {
   "cell_type": "code",
   "execution_count": 9,
   "metadata": {
    "scrolled": true
   },
   "outputs": [],
   "source": [
    "#Label encode district according to district_name_mapping (Generates a ValueError)\n",
    "#le.transform(dfa['district'])"
   ]
  },
  {
   "cell_type": "markdown",
   "metadata": {},
   "source": [
    "<p>We've got a ValueError because some of the districts in our apartment df are encoded in utf-8, while our OSM data is latin.</p>\n",
    "Also, two of the districts are not found in OSM, so we drop them."
   ]
  },
  {
   "cell_type": "code",
   "execution_count": 10,
   "metadata": {},
   "outputs": [],
   "source": [
    "#Removing / Resolving invalid districts\n",
    "#Rename Candelaria, Igapo, Neopolis, Pajucara, Petropolis, da Esperanca, de Nazare, sept Rosado\n",
    "dfa['district'] = dfa['district'].str.replace('Candelaria', 'Candelária')\n",
    "dfa['district'] = dfa['district'].str.replace('Igapo', 'Igapó')\n",
    "dfa['district'] = dfa['district'].str.replace('Neopolis', 'Neópolis')\n",
    "dfa['district'] = dfa['district'].str.replace('Pajucara', 'Pajuçara')\n",
    "dfa['district'] = dfa['district'].str.replace('Petropolis', 'Petropólis')\n",
    "dfa['district'] = dfa['district'].str.replace('da Esperanca', 'Cidade da Esperança')\n",
    "dfa['district'] = dfa['district'].str.replace('de Nazare', 'N. Sra. do Nazaré')\n",
    "dfa['district'] = dfa['district'].str.replace('sept Rosado', 'Dix-Sept Rosado')\n",
    "\n",
    "#Dropping PARNAMIRIM, Morro Branco\n",
    "dfa.drop(dfa[dfa['district'] == 'PARNAMIRIM'].index, inplace = True)\n",
    "dfa.drop(dfa[dfa['district'] == 'Morro Branco'].index, inplace = True)"
   ]
  },
  {
   "cell_type": "code",
   "execution_count": 11,
   "metadata": {},
   "outputs": [],
   "source": [
    "dfa['district_num'] = le.transform(dfa['district'])"
   ]
  },
  {
   "cell_type": "markdown",
   "metadata": {},
   "source": [
    "Repeat the same steps for the houses df"
   ]
  },
  {
   "cell_type": "code",
   "execution_count": 12,
   "metadata": {},
   "outputs": [],
   "source": [
    "#Label encode district according to district_name_mapping (Generates a ValueError)\n",
    "#le.transform(dfh['district'])"
   ]
  },
  {
   "cell_type": "code",
   "execution_count": 13,
   "metadata": {},
   "outputs": [],
   "source": [
    "#Removing / Resolving invalid districts\n",
    "dfh['district'] = dfh['district'].str.replace('Candelaria', 'Candelária')\n",
    "dfh['district'] = dfh['district'].str.replace('Igapo', 'Igapó')\n",
    "dfh['district'] = dfh['district'].str.replace('Neopolis', 'Neópolis')\n",
    "dfh['district'] = dfh['district'].str.replace('Pajucara', 'Pajuçara')\n",
    "dfh['district'] = dfh['district'].str.replace('Petropolis', 'Petropólis')\n",
    "dfh['district'] = dfh['district'].str.replace('Cidade da Esperanca', 'Cidade da Esperança')\n",
    "dfh['district'] = dfh['district'].str.replace('de Nazare', 'N. Sra. do Nazaré')\n",
    "dfh['district'] = dfh['district'].str.replace('sept Rosado', 'Dix-Sept Rosado')\n",
    "dfh['district'] = dfh['district'].str.replace('Nossa Senhora da Apresentacao', 'N. S. Apresentação')\n",
    "dfh['district'] = dfh['district'].str.replace('POTILANDIA', 'Lagoa Nova')\n",
    "\n",
    "\n",
    "dfh.drop(dfh[dfh['district'] == 'PARNAMIRIM'].index, inplace = True)\n",
    "dfh.drop(dfh[dfh['district'] == 'Cidade Jardim'].index, inplace = True)\n",
    "dfh.drop(dfh[dfh['district'] == 'Cidade Verde'].index, inplace = True)\n",
    "dfh.drop(dfh[dfh['district'] == 'Morro Branco'].index, inplace = True)\n",
    "dfh.drop(dfh[dfh['district'] == 'San Vale'].index, inplace = True)"
   ]
  },
  {
   "cell_type": "code",
   "execution_count": 14,
   "metadata": {},
   "outputs": [],
   "source": [
    "dfh['district_num'] = le.transform(dfh['district'])"
   ]
  },
  {
   "cell_type": "markdown",
   "metadata": {},
   "source": [
    "<h3>Feature Engineering"
   ]
  },
  {
   "cell_type": "code",
   "execution_count": 15,
   "metadata": {},
   "outputs": [
    {
     "data": {
      "text/plain": [
       "amenity_pharmacy            35\n",
       "leisure_*                   35\n",
       "amenity_restaurant          35\n",
       "shop_supermarket            35\n",
       "amenity_clinic              35\n",
       "amenity_school              35\n",
       "tourism_*                   35\n",
       "amenity_police              35\n",
       "amenity_hospital            35\n",
       "amenity_place_of_worship    35\n",
       "shop_mall                   35\n",
       "amenity_fast_food           35\n",
       "Name: tag, dtype: int64"
      ]
     },
     "execution_count": 15,
     "metadata": {},
     "output_type": "execute_result"
    }
   ],
   "source": [
    "geo['tag'].value_counts()"
   ]
  },
  {
   "cell_type": "code",
   "execution_count": 16,
   "metadata": {},
   "outputs": [],
   "source": [
    "#Disable warning\n",
    "pd.options.mode.chained_assignment = None\n",
    "\n",
    "def slicendice(df_target, colname):\n",
    "    df_target.drop(['tag'], axis = 1, inplace = True)\n",
    "    df_target.rename(index=str, columns={\"count\": colname}, inplace=True)\n",
    "    df_target['district_num'] = le.fit_transform(df_target['district'])\n",
    "\n",
    "#1st merge\n",
    "am_worship = geo[geo['tag'] == 'amenity_place_of_worship']\n",
    "am_pharma = geo[geo['tag'] == 'amenity_pharmacy']\n",
    "slicendice(am_worship, \"am_worship\")\n",
    "slicendice(am_pharma, \"am_pharma\")\n",
    "worship_pharma = pd.merge(am_worship, am_pharma, on='district_num', suffixes=('_worship', '_pharma'))\n",
    "\n",
    "#2nd merge\n",
    "tourism = geo[geo['tag'] == 'tourism_*']\n",
    "leisure = geo[geo['tag'] == 'leisure_*']\n",
    "slicendice(tourism,\"am_tourism\")\n",
    "slicendice(leisure,\"am_leisure\")\n",
    "tourism_leisure = pd.merge(tourism, leisure, on='district_num', suffixes=('_tourism', '_leisure'))\n",
    "\n",
    "#3rd merge\n",
    "clinic = geo[geo['tag'] == 'amenity_clinic']\n",
    "fast_food = geo[geo['tag'] == 'amenity_fast_food']\n",
    "slicendice(clinic,\"am_clinic\")\n",
    "slicendice(fast_food,\"am_fast_food\")\n",
    "clinic_fast_food = pd.merge(clinic, fast_food, on='district_num', suffixes=('_clinic', '_fast_food'))\n",
    "\n",
    "#4th merge\n",
    "police = geo[geo['tag'] == 'amenity_police']\n",
    "restaurant = geo[geo['tag'] == 'amenity_restaurant']\n",
    "slicendice(police,\"am_police\")\n",
    "slicendice(restaurant,\"am_restaurant\")\n",
    "police_restaurant = pd.merge(police, restaurant, on='district_num', suffixes=('_police', '_restaurant'))\n",
    "\n",
    "#5th merge\n",
    "shop_mall = geo[geo['tag'] == 'shop_mall']\n",
    "shop_supermarket = geo[geo['tag'] == 'shop_supermarket']\n",
    "slicendice(shop_mall,\"am_shop_mall\")\n",
    "slicendice(shop_supermarket,\"am_shop_supermarket\")\n",
    "shop_mall_shop_supermarket = pd.merge(shop_mall, shop_supermarket, on='district_num', suffixes=('_shop_mall', '_shop_supermarket'))\n",
    "\n",
    "#6th merge\n",
    "school = geo[geo['tag'] == 'amenity_school']\n",
    "hospital = geo[geo['tag'] == 'amenity_hospital']\n",
    "slicendice(school,\"am_school\")\n",
    "slicendice(hospital,\"am_hospital\")\n",
    "school_hospital = pd.merge(school, hospital, on='district_num', suffixes=('_school', '_hospital'))"
   ]
  },
  {
   "cell_type": "code",
   "execution_count": 17,
   "metadata": {},
   "outputs": [],
   "source": [
    "m1 = pd.merge(worship_pharma, tourism_leisure, on='district_num')\n",
    "m2 = pd.merge(clinic_fast_food, police_restaurant, on='district_num')\n",
    "m3 = pd.merge(shop_mall_shop_supermarket, school_hospital, on='district_num')\n",
    "m4 = pd.merge(m1, m2, on = 'district_num')\n",
    "m5 = pd.merge(m4, m3, on = 'district_num')"
   ]
  },
  {
   "cell_type": "code",
   "execution_count": 18,
   "metadata": {},
   "outputs": [],
   "source": [
    "fe_apartments = pd.merge(dfa, m5, on = 'district_num')"
   ]
  },
  {
   "cell_type": "markdown",
   "metadata": {},
   "source": [
    "Drop repeated columns"
   ]
  },
  {
   "cell_type": "code",
   "execution_count": 19,
   "metadata": {},
   "outputs": [],
   "source": [
    "fe_apartments.drop(['REG_ADM_pharma','REG_ADM_tourism', 'REG_ADM_leisure', 'REG_ADM_clinic', 'REG_ADM_fast_food',\n",
    "         'REG_ADM_police', 'REG_ADM_restaurant', 'REG_ADM_shop_mall', 'REG_ADM_shop_supermarket', \n",
    "         'REG_ADM_school', 'REG_ADM_hospital'], axis = 1, inplace = True)\n",
    "fe_apartments.rename(index=str, columns={\"REG_ADM_worship\":\"region\"}, inplace=True)"
   ]
  },
  {
   "cell_type": "code",
   "execution_count": 20,
   "metadata": {},
   "outputs": [],
   "source": [
    "fe_apartments.drop(['district_worship','district_leisure','district_clinic','district_fast_food','district_police', \n",
    "                    'district_restaurant','district_shop_mall', 'district_shop_supermarket',\n",
    "                    'district_school', 'district_hospital', 'district_tourism','district_pharma'], axis = 1, inplace = True)"
   ]
  },
  {
   "cell_type": "code",
   "execution_count": 21,
   "metadata": {},
   "outputs": [
    {
     "data": {
      "text/plain": [
       "Index(['re_type', 'adv_bed', 'adv_bath', 'adv_park', 'pool', 'elevator', 'bbq',\n",
       "       'balcony', 'leisure', 'adv_size', 'district', 'adv_sale',\n",
       "       'district_num', 'am_worship', 'region', 'area_worship',\n",
       "       'density_worship', 'am_pharma', 'area_pharma', 'density_pharma',\n",
       "       'am_tourism', 'area_tourism', 'density_tourism', 'am_leisure',\n",
       "       'area_leisure', 'density_leisure', 'am_clinic', 'area_clinic',\n",
       "       'density_clinic', 'am_fast_food', 'area_fast_food', 'density_fast_food',\n",
       "       'am_police', 'area_police', 'density_police', 'am_restaurant',\n",
       "       'area_restaurant', 'density_restaurant', 'am_shop_mall',\n",
       "       'area_shop_mall', 'density_shop_mall', 'am_shop_supermarket',\n",
       "       'area_shop_supermarket', 'density_shop_supermarket', 'am_school',\n",
       "       'area_school', 'density_school', 'am_hospital', 'area_hospital',\n",
       "       'density_hospital'],\n",
       "      dtype='object')"
      ]
     },
     "execution_count": 21,
     "metadata": {},
     "output_type": "execute_result"
    }
   ],
   "source": [
    "fe_apartments.columns"
   ]
  },
  {
   "cell_type": "code",
   "execution_count": 22,
   "metadata": {},
   "outputs": [],
   "source": [
    "fe_houses = pd.merge(dfh, m5, on = 'district_num')\n",
    "fe_houses.drop(['REG_ADM_pharma','REG_ADM_tourism', 'REG_ADM_leisure', 'REG_ADM_clinic', 'REG_ADM_fast_food',\n",
    "         'REG_ADM_police', 'REG_ADM_restaurant', 'REG_ADM_shop_mall', 'REG_ADM_shop_supermarket', \n",
    "         'REG_ADM_school', 'REG_ADM_hospital'], axis = 1, inplace = True)\n",
    "fe_houses.rename(index=str, columns={\"REG_ADM_worship\":\"region\"}, inplace=True)\n",
    "fe_houses.drop(['district_worship','district_leisure','district_clinic','district_fast_food','district_police', \n",
    "                    'district_restaurant','district_shop_mall', 'district_shop_supermarket',\n",
    "                    'district_school', 'district_hospital', 'district_tourism','district_pharma' ], axis = 1, inplace = True)"
   ]
  },
  {
   "cell_type": "code",
   "execution_count": 23,
   "metadata": {},
   "outputs": [],
   "source": [
    "fe_apartments.to_csv('data/NatalBR_Apartments.csv')\n",
    "fe_houses.to_csv('data/NatalBR_Housing.csv')"
   ]
  }
 ],
 "metadata": {
  "kernelspec": {
   "display_name": "Python 3",
   "language": "python",
   "name": "python3"
  },
  "language_info": {
   "codemirror_mode": {
    "name": "ipython",
    "version": 3
   },
   "file_extension": ".py",
   "mimetype": "text/x-python",
   "name": "python",
   "nbconvert_exporter": "python",
   "pygments_lexer": "ipython3",
   "version": "3.6.7"
  }
 },
 "nbformat": 4,
 "nbformat_minor": 2
}
